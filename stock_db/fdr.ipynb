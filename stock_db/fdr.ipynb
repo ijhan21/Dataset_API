{
 "cells": [
  {
   "cell_type": "code",
   "execution_count": 1,
   "metadata": {},
   "outputs": [
    {
     "ename": "ModuleNotFoundError",
     "evalue": "No module named 'bs4'",
     "output_type": "error",
     "traceback": [
      "\u001b[1;31m---------------------------------------------------------------------------\u001b[0m",
      "\u001b[1;31mModuleNotFoundError\u001b[0m                       Traceback (most recent call last)",
      "Cell \u001b[1;32mIn [1], line 3\u001b[0m\n\u001b[0;32m      1\u001b[0m \u001b[39m#  차트 설정\u001b[39;00m\n\u001b[0;32m      2\u001b[0m \u001b[39mimport\u001b[39;00m \u001b[39mmatplotlib\u001b[39;00m\u001b[39m.\u001b[39;00m\u001b[39mpyplot\u001b[39;00m \u001b[39mas\u001b[39;00m \u001b[39mplt\u001b[39;00m\n\u001b[1;32m----> 3\u001b[0m \u001b[39mimport\u001b[39;00m \u001b[39mFinanceDataReader\u001b[39;00m \u001b[39mas\u001b[39;00m \u001b[39mfdr\u001b[39;00m\n",
      "File \u001b[1;32mc:\\workspace\\VENV\\dj\\lib\\site-packages\\FinanceDataReader\\__init__.py:1\u001b[0m\n\u001b[1;32m----> 1\u001b[0m \u001b[39mfrom\u001b[39;00m \u001b[39m.\u001b[39;00m\u001b[39mdata\u001b[39;00m \u001b[39mimport\u001b[39;00m (DataReader)\n\u001b[0;32m      2\u001b[0m \u001b[39mfrom\u001b[39;00m \u001b[39m.\u001b[39;00m\u001b[39mdata\u001b[39;00m \u001b[39mimport\u001b[39;00m (StockListing)\n\u001b[0;32m      3\u001b[0m \u001b[39mfrom\u001b[39;00m \u001b[39m.\u001b[39;00m\u001b[39mdata\u001b[39;00m \u001b[39mimport\u001b[39;00m (EtfListing)\n",
      "File \u001b[1;32mc:\\workspace\\VENV\\dj\\lib\\site-packages\\FinanceDataReader\\data.py:10\u001b[0m\n\u001b[0;32m      8\u001b[0m \u001b[39mfrom\u001b[39;00m \u001b[39mFinanceDataReader\u001b[39;00m\u001b[39m.\u001b[39;00m\u001b[39mwikipedia\u001b[39;00m\u001b[39m.\u001b[39;00m\u001b[39mlisting\u001b[39;00m \u001b[39mimport\u001b[39;00m (WikipediaStockListing)\n\u001b[0;32m      9\u001b[0m \u001b[39mfrom\u001b[39;00m \u001b[39mFinanceDataReader\u001b[39;00m\u001b[39m.\u001b[39;00m\u001b[39minvesting\u001b[39;00m\u001b[39m.\u001b[39;00m\u001b[39mdata\u001b[39;00m \u001b[39mimport\u001b[39;00m (InvestingDailyReader)\n\u001b[1;32m---> 10\u001b[0m \u001b[39mfrom\u001b[39;00m \u001b[39mFinanceDataReader\u001b[39;00m\u001b[39m.\u001b[39;00m\u001b[39minvesting\u001b[39;00m\u001b[39m.\u001b[39;00m\u001b[39mlisting\u001b[39;00m \u001b[39mimport\u001b[39;00m (InvestingEtfListing)\n\u001b[0;32m     11\u001b[0m \u001b[39mfrom\u001b[39;00m \u001b[39mFinanceDataReader\u001b[39;00m\u001b[39m.\u001b[39;00m\u001b[39mnaver\u001b[39;00m\u001b[39m.\u001b[39;00m\u001b[39mdata\u001b[39;00m \u001b[39mimport\u001b[39;00m (NaverDailyReader)\n\u001b[0;32m     12\u001b[0m \u001b[39mfrom\u001b[39;00m \u001b[39mFinanceDataReader\u001b[39;00m\u001b[39m.\u001b[39;00m\u001b[39mnaver\u001b[39;00m\u001b[39m.\u001b[39;00m\u001b[39mlisting\u001b[39;00m \u001b[39mimport\u001b[39;00m (NaverStockListing, NaverEtfListing)\n",
      "File \u001b[1;32mc:\\workspace\\VENV\\dj\\lib\\site-packages\\FinanceDataReader\\investing\\listing.py:3\u001b[0m\n\u001b[0;32m      1\u001b[0m \u001b[39mimport\u001b[39;00m \u001b[39mpandas\u001b[39;00m \u001b[39mas\u001b[39;00m \u001b[39mpd\u001b[39;00m\n\u001b[0;32m      2\u001b[0m \u001b[39mimport\u001b[39;00m \u001b[39mrequests\u001b[39;00m\n\u001b[1;32m----> 3\u001b[0m \u001b[39mfrom\u001b[39;00m \u001b[39mbs4\u001b[39;00m \u001b[39mimport\u001b[39;00m BeautifulSoup\n\u001b[0;32m      5\u001b[0m \u001b[39mfrom\u001b[39;00m \u001b[39mFinanceDataReader\u001b[39;00m\u001b[39m.\u001b[39;00m\u001b[39m_utils\u001b[39;00m \u001b[39mimport\u001b[39;00m (_convert_letter_to_num, _validate_dates)\n\u001b[0;32m      7\u001b[0m \u001b[39mclass\u001b[39;00m \u001b[39mInvestingEtfListing\u001b[39;00m:\n",
      "\u001b[1;31mModuleNotFoundError\u001b[0m: No module named 'bs4'"
     ]
    }
   ],
   "source": [
    "#  차트 설정\n",
    "import matplotlib.pyplot as plt\n",
    "import FinanceDataReader as fdr"
   ]
  },
  {
   "cell_type": "code",
   "execution_count": null,
   "metadata": {},
   "outputs": [
    {
     "data": {
      "text/plain": [
       "'0.9.50'"
      ]
     },
     "execution_count": 2,
     "metadata": {},
     "output_type": "execute_result"
    }
   ],
   "source": [
    "fdr.__version__\n",
    "\"\"\"\n",
    "한국\n",
    "심볼\t거래소\n",
    "KRX\tKRX 종목 전체\n",
    "KOSPI\tKOSPI 종목\n",
    "KOSDAQ\tKOSDAQ 종목\n",
    "KONEX\tKONEX 종목\n",
    "\n",
    "미국\n",
    "심볼\t거래소\n",
    "NASDAQ\t나스닥 종목\n",
    "NYSE\t뉴욕 증권거래소 종목\n",
    "AMEX\tAMEX 종목\n",
    "SP500\tS&P 500 종목\n",
    "\"\"\""
   ]
  },
  {
   "cell_type": "code",
   "execution_count": null,
   "metadata": {},
   "outputs": [],
   "source": [
    "df_krx = fdr.StockListing('KRX')"
   ]
  },
  {
   "cell_type": "code",
   "execution_count": null,
   "metadata": {},
   "outputs": [
    {
     "data": {
      "text/html": [
       "<div>\n",
       "<style scoped>\n",
       "    .dataframe tbody tr th:only-of-type {\n",
       "        vertical-align: middle;\n",
       "    }\n",
       "\n",
       "    .dataframe tbody tr th {\n",
       "        vertical-align: top;\n",
       "    }\n",
       "\n",
       "    .dataframe thead th {\n",
       "        text-align: right;\n",
       "    }\n",
       "</style>\n",
       "<table border=\"1\" class=\"dataframe\">\n",
       "  <thead>\n",
       "    <tr style=\"text-align: right;\">\n",
       "      <th></th>\n",
       "      <th>Code</th>\n",
       "      <th>ISU_CD</th>\n",
       "      <th>Name</th>\n",
       "      <th>Market</th>\n",
       "      <th>Dept</th>\n",
       "      <th>Close</th>\n",
       "      <th>ChangeCode</th>\n",
       "      <th>Changes</th>\n",
       "      <th>ChagesRatio</th>\n",
       "      <th>Open</th>\n",
       "      <th>High</th>\n",
       "      <th>Low</th>\n",
       "      <th>Volume</th>\n",
       "      <th>Amount</th>\n",
       "      <th>Marcap</th>\n",
       "      <th>Stocks</th>\n",
       "      <th>MarketId</th>\n",
       "    </tr>\n",
       "  </thead>\n",
       "  <tbody>\n",
       "    <tr>\n",
       "      <th>0</th>\n",
       "      <td>005930</td>\n",
       "      <td>KR7005930003</td>\n",
       "      <td>삼성전자</td>\n",
       "      <td>KOSPI</td>\n",
       "      <td></td>\n",
       "      <td>59400</td>\n",
       "      <td>1</td>\n",
       "      <td>200</td>\n",
       "      <td>0.34</td>\n",
       "      <td>59100</td>\n",
       "      <td>59500</td>\n",
       "      <td>58400</td>\n",
       "      <td>12445841</td>\n",
       "      <td>734525784600</td>\n",
       "      <td>354605083470000</td>\n",
       "      <td>5969782550</td>\n",
       "      <td>STK</td>\n",
       "    </tr>\n",
       "    <tr>\n",
       "      <th>1</th>\n",
       "      <td>373220</td>\n",
       "      <td>KR7373220003</td>\n",
       "      <td>LG에너지솔루션</td>\n",
       "      <td>KOSPI</td>\n",
       "      <td></td>\n",
       "      <td>592000</td>\n",
       "      <td>1</td>\n",
       "      <td>3000</td>\n",
       "      <td>0.51</td>\n",
       "      <td>590000</td>\n",
       "      <td>598000</td>\n",
       "      <td>583000</td>\n",
       "      <td>363743</td>\n",
       "      <td>215649789000</td>\n",
       "      <td>138528000000000</td>\n",
       "      <td>234000000</td>\n",
       "      <td>STK</td>\n",
       "    </tr>\n",
       "    <tr>\n",
       "      <th>2</th>\n",
       "      <td>207940</td>\n",
       "      <td>KR7207940008</td>\n",
       "      <td>삼성바이오로직스</td>\n",
       "      <td>KOSPI</td>\n",
       "      <td></td>\n",
       "      <td>871000</td>\n",
       "      <td>1</td>\n",
       "      <td>1000</td>\n",
       "      <td>0.11</td>\n",
       "      <td>872000</td>\n",
       "      <td>876000</td>\n",
       "      <td>865000</td>\n",
       "      <td>24691</td>\n",
       "      <td>21469159000</td>\n",
       "      <td>61992554000000</td>\n",
       "      <td>71174000</td>\n",
       "      <td>STK</td>\n",
       "    </tr>\n",
       "    <tr>\n",
       "      <th>3</th>\n",
       "      <td>000660</td>\n",
       "      <td>KR7000660001</td>\n",
       "      <td>SK하이닉스</td>\n",
       "      <td>KOSPI</td>\n",
       "      <td></td>\n",
       "      <td>84500</td>\n",
       "      <td>1</td>\n",
       "      <td>1800</td>\n",
       "      <td>2.18</td>\n",
       "      <td>82700</td>\n",
       "      <td>84600</td>\n",
       "      <td>81700</td>\n",
       "      <td>3032985</td>\n",
       "      <td>252333968000</td>\n",
       "      <td>61516199842500</td>\n",
       "      <td>728002365</td>\n",
       "      <td>STK</td>\n",
       "    </tr>\n",
       "    <tr>\n",
       "      <th>4</th>\n",
       "      <td>006400</td>\n",
       "      <td>KR7006400006</td>\n",
       "      <td>삼성SDI</td>\n",
       "      <td>KOSPI</td>\n",
       "      <td></td>\n",
       "      <td>733000</td>\n",
       "      <td>2</td>\n",
       "      <td>-6000</td>\n",
       "      <td>-0.81</td>\n",
       "      <td>735000</td>\n",
       "      <td>742000</td>\n",
       "      <td>726000</td>\n",
       "      <td>267670</td>\n",
       "      <td>196610351034</td>\n",
       "      <td>50404400490000</td>\n",
       "      <td>68764530</td>\n",
       "      <td>STK</td>\n",
       "    </tr>\n",
       "  </tbody>\n",
       "</table>\n",
       "</div>"
      ],
      "text/plain": [
       "     Code        ISU_CD      Name Market Dept   Close ChangeCode  Changes  \\\n",
       "0  005930  KR7005930003      삼성전자  KOSPI        59400          1      200   \n",
       "1  373220  KR7373220003  LG에너지솔루션  KOSPI       592000          1     3000   \n",
       "2  207940  KR7207940008  삼성바이오로직스  KOSPI       871000          1     1000   \n",
       "3  000660  KR7000660001    SK하이닉스  KOSPI        84500          1     1800   \n",
       "4  006400  KR7006400006     삼성SDI  KOSPI       733000          2    -6000   \n",
       "\n",
       "   ChagesRatio    Open    High     Low    Volume        Amount  \\\n",
       "0         0.34   59100   59500   58400  12445841  734525784600   \n",
       "1         0.51  590000  598000  583000    363743  215649789000   \n",
       "2         0.11  872000  876000  865000     24691   21469159000   \n",
       "3         2.18   82700   84600   81700   3032985  252333968000   \n",
       "4        -0.81  735000  742000  726000    267670  196610351034   \n",
       "\n",
       "            Marcap      Stocks MarketId  \n",
       "0  354605083470000  5969782550      STK  \n",
       "1  138528000000000   234000000      STK  \n",
       "2   61992554000000    71174000      STK  \n",
       "3   61516199842500   728002365      STK  \n",
       "4   50404400490000    68764530      STK  "
      ]
     },
     "execution_count": 6,
     "metadata": {},
     "output_type": "execute_result"
    }
   ],
   "source": [
    "df_krx.head()"
   ]
  },
  {
   "cell_type": "code",
   "execution_count": null,
   "metadata": {},
   "outputs": [
    {
     "data": {
      "text/plain": [
       "pandas.core.frame.DataFrame"
      ]
     },
     "execution_count": 5,
     "metadata": {},
     "output_type": "execute_result"
    }
   ],
   "source": [
    "type(df_krx)"
   ]
  },
  {
   "cell_type": "code",
   "execution_count": null,
   "metadata": {},
   "outputs": [
    {
     "data": {
      "text/plain": [
       "KOSDAQ    1603\n",
       "KOSPI      941\n",
       "KONEX      126\n",
       "Name: Market, dtype: int64"
      ]
     },
     "execution_count": 7,
     "metadata": {},
     "output_type": "execute_result"
    }
   ],
   "source": [
    "df_krx['Market'].value_counts()"
   ]
  }
 ],
 "metadata": {
  "kernelspec": {
   "display_name": "Python 3.10.7 ('dj')",
   "language": "python",
   "name": "python3"
  },
  "language_info": {
   "codemirror_mode": {
    "name": "ipython",
    "version": 3
   },
   "file_extension": ".py",
   "mimetype": "text/x-python",
   "name": "python",
   "nbconvert_exporter": "python",
   "pygments_lexer": "ipython3",
   "version": "3.10.7"
  },
  "orig_nbformat": 4,
  "vscode": {
   "interpreter": {
    "hash": "82273b897ce79875859ff2a1d656e69ca3ce35a3e0ff5679b31b9b0661678db0"
   }
  }
 },
 "nbformat": 4,
 "nbformat_minor": 2
}
